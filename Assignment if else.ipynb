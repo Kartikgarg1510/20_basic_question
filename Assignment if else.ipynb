{
 "cells": [
  {
   "cell_type": "markdown",
   "id": "70be8ec5-f4ab-4b70-928b-48cef35ac765",
   "metadata": {},
   "source": [
    "# QUESTION - 1st"
   ]
  },
  {
   "cell_type": "code",
   "execution_count": 9,
   "id": "8f3ad126-01bc-4d99-a65c-4b3669da5eb1",
   "metadata": {},
   "outputs": [
    {
     "name": "stdin",
     "output_type": "stream",
     "text": [
      "Enter number of units:  350\n"
     ]
    },
    {
     "name": "stdout",
     "output_type": "stream",
     "text": [
      "Total bill amount is Rs 2000\n"
     ]
    }
   ],
   "source": [
    "units = int(input(\"Enter number of units: \"))\n",
    "bill = 0\n",
    "\n",
    "if units > 200:\n",
    "    bill += (units - 200)*10\n",
    "    units = 200       # we are changing units to 200 (if bill is greater than 200, so in both cases if statement will be true(if bill>200))\n",
    "if units > 100:\n",
    "    bill += (units - 100)*5\n",
    "\n",
    "print(f\"Total bill amount is Rs {bill}\")"
   ]
  },
  {
   "cell_type": "markdown",
   "id": "da23eb4a-7dbc-4241-b82d-0c54638f6af0",
   "metadata": {},
   "source": [
    "# QUESTION - 2nd"
   ]
  },
  {
   "cell_type": "code",
   "execution_count": 3,
   "id": "fc7722de-3cab-40e9-8b8b-9393063777d5",
   "metadata": {},
   "outputs": [
    {
     "name": "stdin",
     "output_type": "stream",
     "text": [
      "Enter your percentage:  75.2\n"
     ]
    },
    {
     "name": "stdout",
     "output_type": "stream",
     "text": [
      "Grade: C\n"
     ]
    }
   ],
   "source": [
    "percentage = float(input(\"Enter your percentage: \"))\n",
    "\n",
    "if percentage > 90:\n",
    "    print(\"Grade: A\")\n",
    "elif percentage > 80:\n",
    "    print(\"Grade: B\")\n",
    "elif percentage >=60:\n",
    "    print(\"Grade: C\")\n",
    "else:\n",
    "    print(\"Grade: D\")\n"
   ]
  },
  {
   "cell_type": "markdown",
   "id": "d915a10a-a22c-4d57-ae65-081f6840337c",
   "metadata": {},
   "source": [
    "# QUESTION - 3rd"
   ]
  },
  {
   "cell_type": "code",
   "execution_count": 68,
   "id": "3180d15d-3ceb-4d05-8b5c-ef1d83205425",
   "metadata": {},
   "outputs": [
    {
     "name": "stdin",
     "output_type": "stream",
     "text": [
      "Enter age of person 1:  10\n",
      "Enter age of person 2:  20\n",
      "Enter age of person 3:  30\n",
      "Enter age of person 4:  40\n"
     ]
    },
    {
     "name": "stdout",
     "output_type": "stream",
     "text": [
      "The youngest age is: 10\n"
     ]
    }
   ],
   "source": [
    "age1 = int(input(\"Enter age of person 1: \"))\n",
    "age2 = int(input(\"Enter age of person 2: \"))\n",
    "age3 = int(input(\"Enter age of person 3: \"))\n",
    "age4 = int(input(\"Enter age of person 4: \"))\n",
    "\n",
    "youngest = min(age1, age2, age3, age4)\n",
    "\n",
    "print(\"The youngest age is:\", youngest)"
   ]
  },
  {
   "cell_type": "markdown",
   "id": "0d60f876-becd-49a3-ab71-a37e21c1195e",
   "metadata": {},
   "source": [
    "# QUESTION - 4th"
   ]
  },
  {
   "cell_type": "code",
   "execution_count": 10,
   "id": "661bf5f1-acb7-4513-948c-0e9ec0592f19",
   "metadata": {},
   "outputs": [
    {
     "name": "stdin",
     "output_type": "stream",
     "text": [
      "Enter your salary 100000\n",
      "Enter your Time period of Service 10\n"
     ]
    },
    {
     "name": "stdout",
     "output_type": "stream",
     "text": [
      "8000.0\n"
     ]
    }
   ],
   "source": [
    "bonus = int(input(\"Enter your salary\"))\n",
    "Time_period_of_Service = int(input(\"Enter your Time period of Service\"))\n",
    "\n",
    "if Time_period_of_Service > 10:\n",
    "    salary = bonus*0.10\n",
    "    print(salary)\n",
    "elif Time_period_of_Service >= 6:\n",
    "    salary = bonus*0.08\n",
    "    print(salary)\n",
    "elif Time_period_of_Service < 6:\n",
    "    salary = bonus*0.05\n",
    "    print(salary)\n"
   ]
  },
  {
   "cell_type": "markdown",
   "id": "29daee6d-e73d-46ea-a354-5107238d129c",
   "metadata": {},
   "source": [
    "# QUESTION - 5th"
   ]
  },
  {
   "cell_type": "code",
   "execution_count": 19,
   "id": "2a3a359c-653b-4e1e-9262-8c935b5dde64",
   "metadata": {},
   "outputs": [
    {
     "name": "stdin",
     "output_type": "stream",
     "text": [
      "Enter the first number 10\n",
      "Enter the second number 40\n",
      "Enter the third number 30\n"
     ]
    },
    {
     "name": "stdout",
     "output_type": "stream",
     "text": [
      "second_largest is : 30\n"
     ]
    }
   ],
   "source": [
    "a = int(input(\"Enter the first number\"))\n",
    "b = int(input(\"Enter the second number\"))\n",
    "c = int(input(\"Enter the third number\"))\n",
    "\n",
    "if a>b and a<c or a<b and a>c:\n",
    "    second_largest=a\n",
    "if b>c and b<a or b<c and b>a:\n",
    "    second_largest=b\n",
    "if c>a and c<b or c<a and c>b:\n",
    "    second_largest=c\n",
    "print(\"second_largest is :\",second_largest)"
   ]
  },
  {
   "cell_type": "markdown",
   "id": "4e38e482-84cd-43dd-bbf8-ac7196573881",
   "metadata": {},
   "source": [
    "# QUESTION - 6th"
   ]
  },
  {
   "cell_type": "code",
   "execution_count": 38,
   "id": "7832f25e-2020-4406-8798-1cdb372864f5",
   "metadata": {},
   "outputs": [
    {
     "name": "stdin",
     "output_type": "stream",
     "text": [
      "Enter your Marked Price :  100000\n"
     ]
    },
    {
     "name": "stdout",
     "output_type": "stream",
     "text": [
      "20000.0\n"
     ]
    }
   ],
   "source": [
    "Marked_price = int(input(\"Enter your Marked Price : \"))\n",
    "\n",
    "if Marked_price > 10000:\n",
    "    Amount = (Marked_price*0.20)\n",
    "    print(Amount)\n",
    "elif Marked_price > 7000:\n",
    "    Amount = (Marked_price*0.15)\n",
    "    print(Amount)\n",
    "elif Marked_price < 7000:\n",
    "    Amount = (Marked_price*0.10)\n",
    "    print(Amount)"
   ]
  },
  {
   "cell_type": "markdown",
   "id": "2911c5b6-abe4-4462-b78e-38db717d9724",
   "metadata": {},
   "source": [
    "# QUESTION - 7th"
   ]
  },
  {
   "cell_type": "code",
   "execution_count": 22,
   "id": "1793611b-2e8b-48d3-994a-034587ff1b1e",
   "metadata": {},
   "outputs": [
    {
     "name": "stdin",
     "output_type": "stream",
     "text": [
      "English:  92\n",
      "Math:  83\n",
      "Science:  72\n",
      "Social Studies:  70\n"
     ]
    },
    {
     "name": "stdout",
     "output_type": "stream",
     "text": [
      "Commerce Stream\n"
     ]
    }
   ],
   "source": [
    "english = float(input(\"English: \"))\n",
    "math = float(input(\"Math: \"))\n",
    "science = float(input(\"Science: \"))\n",
    "social = float(input(\"Social Studies: \"))\n",
    "\n",
    "if english > 80 and math > 80 and science > 80 and social > 80:\n",
    "    print(\"Science Stream\")\n",
    "\n",
    "if english > 80 and math > 50 and science > 50:\n",
    "    print(\"Commerce Stream\")\n",
    "\n",
    "if english > 80 and social > 80:\n",
    "    print(\"Humanities\")\n"
   ]
  },
  {
   "cell_type": "markdown",
   "id": "edaf7e78-600f-49c9-96f7-c326ab13e569",
   "metadata": {},
   "source": [
    "# QUESTION - 8th"
   ]
  },
  {
   "cell_type": "code",
   "execution_count": 79,
   "id": "346cf83a-83fa-4b2e-b887-a356583d3935",
   "metadata": {},
   "outputs": [
    {
     "name": "stdin",
     "output_type": "stream",
     "text": [
      "Enter a number 60\n"
     ]
    },
    {
     "name": "stdout",
     "output_type": "stream",
     "text": [
      "Hello\n"
     ]
    }
   ],
   "source": [
    "number = int(input(\"Enter a number\"))\n",
    "\n",
    "if number == int(number/5)*5:\n",
    "    print(\"Hello\")\n",
    "else :\n",
    "    print(\"Bye\")\n"
   ]
  },
  {
   "cell_type": "markdown",
   "id": "8d7b395d-e0c1-4f72-aa3b-0e719fe02d60",
   "metadata": {},
   "source": [
    "# QUESTION - 9th"
   ]
  },
  {
   "cell_type": "code",
   "execution_count": 1,
   "id": "64317c90-bc75-49a4-9298-97432b31b7a8",
   "metadata": {},
   "outputs": [
    {
     "name": "stdin",
     "output_type": "stream",
     "text": [
      "Enter a number 6348273639\n"
     ]
    },
    {
     "name": "stdout",
     "output_type": "stream",
     "text": [
      "Divisible By 3\n"
     ]
    }
   ],
   "source": [
    "number = int(input(\"Enter a number\"))\n",
    "\n",
    "if number == int(number*3)/3:\n",
    "    print(\"Divisible By 3\")\n",
    "else :\n",
    "    print(\"Not Divisible By 3\")\n"
   ]
  },
  {
   "cell_type": "markdown",
   "id": "3c5fc3ae-24a0-4bc5-b446-54cd64633498",
   "metadata": {},
   "source": [
    "# QUESTION - 10th"
   ]
  },
  {
   "cell_type": "code",
   "execution_count": 21,
   "id": "31d8ec45-4936-450d-9203-077e25116638",
   "metadata": {},
   "outputs": [
    {
     "name": "stdin",
     "output_type": "stream",
     "text": [
      "Enter the number :  -836\n"
     ]
    },
    {
     "name": "stdout",
     "output_type": "stream",
     "text": [
      "It is a three digit number\n"
     ]
    }
   ],
   "source": [
    "number = int(input(\"Enter the number : \"))\n",
    "\n",
    "if number >= 100 and number <= 999:\n",
    "    print(\"It is a three digit number\")\n",
    "elif number <= -100 and number >= -999:\n",
    "    print(\"It is a three digit number\")\n",
    "else:\n",
    "    print(\"It is not a three-digit number\")"
   ]
  },
  {
   "cell_type": "code",
   "execution_count": null,
   "id": "0f45bbdf-bedc-415a-a7c4-ad89b9ed2dec",
   "metadata": {},
   "outputs": [],
   "source": []
  },
  {
   "cell_type": "code",
   "execution_count": null,
   "id": "287832bf-886b-4850-9fee-3fd09d844a3c",
   "metadata": {},
   "outputs": [],
   "source": []
  },
  {
   "cell_type": "code",
   "execution_count": null,
   "id": "82cd1356-906a-4afa-a8fe-273b9264606c",
   "metadata": {},
   "outputs": [],
   "source": []
  },
  {
   "cell_type": "code",
   "execution_count": null,
   "id": "3db3a0df-bb0f-4887-9474-c5d394bf9ccc",
   "metadata": {},
   "outputs": [],
   "source": []
  },
  {
   "cell_type": "code",
   "execution_count": null,
   "id": "d6d34cb4-4d28-4921-aa3d-ccda16346a87",
   "metadata": {},
   "outputs": [],
   "source": []
  },
  {
   "cell_type": "code",
   "execution_count": null,
   "id": "7d483d28-2a95-4c44-92a2-e034b06d47dc",
   "metadata": {},
   "outputs": [],
   "source": []
  }
 ],
 "metadata": {
  "kernelspec": {
   "display_name": "Python [conda env:base] *",
   "language": "python",
   "name": "conda-base-py"
  },
  "language_info": {
   "codemirror_mode": {
    "name": "ipython",
    "version": 3
   },
   "file_extension": ".py",
   "mimetype": "text/x-python",
   "name": "python",
   "nbconvert_exporter": "python",
   "pygments_lexer": "ipython3",
   "version": "3.12.7"
  }
 },
 "nbformat": 4,
 "nbformat_minor": 5
}
